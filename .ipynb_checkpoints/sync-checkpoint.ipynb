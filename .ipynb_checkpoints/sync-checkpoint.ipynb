{
 "cells": [
  {
   "cell_type": "markdown",
   "id": "eb8757f5",
   "metadata": {},
   "source": [
    "# Syncronation of Folders"
   ]
  },
  {
   "cell_type": "code",
   "execution_count": 2,
   "id": "e47e20b1",
   "metadata": {},
   "outputs": [],
   "source": [
    "import os\n",
    "import shutil\n"
   ]
  },
  {
   "cell_type": "code",
   "execution_count": null,
   "id": "7e97abd3",
   "metadata": {},
   "outputs": [],
   "source": []
  },
  {
   "cell_type": "code",
   "execution_count": null,
   "id": "d751a64f",
   "metadata": {},
   "outputs": [],
   "source": [
    "\n"
   ]
  },
  {
   "cell_type": "code",
   "execution_count": 3,
   "id": "aacebe58",
   "metadata": {},
   "outputs": [],
   "source": [
    "path_s = \"C:\\\\Users\\sanju\\Documents\\Syncronazation_project\\Source_folder\"\n",
    "path_re = \"C:\\\\Users\\sanju\\Documents\\Syncronazation_project\\Replica_folder\""
   ]
  },
  {
   "cell_type": "code",
   "execution_count": null,
   "id": "2fcd0236",
   "metadata": {},
   "outputs": [],
   "source": []
  },
  {
   "cell_type": "code",
   "execution_count": 4,
   "id": "92741f10",
   "metadata": {},
   "outputs": [],
   "source": [
    "def copy_file1(path_s, path_re):\n",
    "    for filename in os.listdir (path_s):\n",
    "        filename_s=path_s + os.sep + filename\n",
    "        filename_t=path_re + os.sep + filename\n",
    "        #print(filename_s)\n",
    "        #print(filename_t)\n",
    "        if os.path.isdir(filename_s):\n",
    "            #print(filename_s)\n",
    "            if not os.path.exists(filename_t):\n",
    "                os.mkdir (filename_t)\n",
    "            copy_file1(filename_s, filename_t)\n",
    "        else:\n",
    "            if os.path.exists(filename_t):\n",
    "                print(\"{} already exists! \".format(filename_t))\n",
    "                #os.remove(filename_t)\n",
    "                with open (filename_s, \"rb\") as f_s:\n",
    "                    with open (filename_t, \"wb\") as f_t:\n",
    "                        f_t.write (f_s.read ())\n",
    "    \n",
    "   #for filename in os.listdir(path_re):\n",
    "   #    filename_s=path_s + os.sep + filename\n",
    "   #    filename_t=path_re + os.sep + filename\n",
    "   #    if os.path.isdir(filename_s):\n",
    "   #        print(\"if directory is present\", filename_s)\n",
    "   #        if not os.path.exists(filename_s):\n",
    "   #            print(\"if path is present\", filename_s)\n",
    "   #            os.remove(filename_t)\n",
    "   #    else:\n",
    "   #        os.remove(filename_t)\n",
    "   #        print('folder removed')\n",
    "   #        if os.path.exists(filename_s):\n",
    "   #            print(\"file is present\", filename)\n",
    "   #                os.remove(filename_t)\n",
    "                \n",
    "                    \n",
    "                        \n"
   ]
  },
  {
   "cell_type": "code",
   "execution_count": 5,
   "id": "fb468a1a",
   "metadata": {},
   "outputs": [
    {
     "ename": "FileNotFoundError",
     "evalue": "[WinError 3] The system cannot find the path specified: 'C:\\\\Users\\\\sanju\\\\Documents\\\\Syncronazation_project\\\\Source_folder'",
     "output_type": "error",
     "traceback": [
      "\u001b[1;31m---------------------------------------------------------------------------\u001b[0m",
      "\u001b[1;31mFileNotFoundError\u001b[0m                         Traceback (most recent call last)",
      "\u001b[1;32m~\\AppData\\Local\\Temp/ipykernel_26324/1437879462.py\u001b[0m in \u001b[0;36m<module>\u001b[1;34m\u001b[0m\n\u001b[1;32m----> 1\u001b[1;33m \u001b[0mcopy_file1\u001b[0m\u001b[1;33m(\u001b[0m\u001b[0mpath_s\u001b[0m\u001b[1;33m,\u001b[0m \u001b[0mpath_re\u001b[0m\u001b[1;33m)\u001b[0m\u001b[1;33m\u001b[0m\u001b[1;33m\u001b[0m\u001b[0m\n\u001b[0m",
      "\u001b[1;32m~\\AppData\\Local\\Temp/ipykernel_26324/870633496.py\u001b[0m in \u001b[0;36mcopy_file1\u001b[1;34m(path_s, path_re)\u001b[0m\n\u001b[0;32m      1\u001b[0m \u001b[1;32mdef\u001b[0m \u001b[0mcopy_file1\u001b[0m\u001b[1;33m(\u001b[0m\u001b[0mpath_s\u001b[0m\u001b[1;33m,\u001b[0m \u001b[0mpath_re\u001b[0m\u001b[1;33m)\u001b[0m\u001b[1;33m:\u001b[0m\u001b[1;33m\u001b[0m\u001b[1;33m\u001b[0m\u001b[0m\n\u001b[1;32m----> 2\u001b[1;33m     \u001b[1;32mfor\u001b[0m \u001b[0mfilename\u001b[0m \u001b[1;32min\u001b[0m \u001b[0mos\u001b[0m\u001b[1;33m.\u001b[0m\u001b[0mlistdir\u001b[0m \u001b[1;33m(\u001b[0m\u001b[0mpath_s\u001b[0m\u001b[1;33m)\u001b[0m\u001b[1;33m:\u001b[0m\u001b[1;33m\u001b[0m\u001b[1;33m\u001b[0m\u001b[0m\n\u001b[0m\u001b[0;32m      3\u001b[0m         \u001b[0mfilename_s\u001b[0m\u001b[1;33m=\u001b[0m\u001b[0mpath_s\u001b[0m \u001b[1;33m+\u001b[0m \u001b[0mos\u001b[0m\u001b[1;33m.\u001b[0m\u001b[0msep\u001b[0m \u001b[1;33m+\u001b[0m \u001b[0mfilename\u001b[0m\u001b[1;33m\u001b[0m\u001b[1;33m\u001b[0m\u001b[0m\n\u001b[0;32m      4\u001b[0m         \u001b[0mfilename_t\u001b[0m\u001b[1;33m=\u001b[0m\u001b[0mpath_re\u001b[0m \u001b[1;33m+\u001b[0m \u001b[0mos\u001b[0m\u001b[1;33m.\u001b[0m\u001b[0msep\u001b[0m \u001b[1;33m+\u001b[0m \u001b[0mfilename\u001b[0m\u001b[1;33m\u001b[0m\u001b[1;33m\u001b[0m\u001b[0m\n\u001b[0;32m      5\u001b[0m         \u001b[1;31m#print(filename_s)\u001b[0m\u001b[1;33m\u001b[0m\u001b[1;33m\u001b[0m\u001b[0m\n",
      "\u001b[1;31mFileNotFoundError\u001b[0m: [WinError 3] The system cannot find the path specified: 'C:\\\\Users\\\\sanju\\\\Documents\\\\Syncronazation_project\\\\Source_folder'"
     ]
    }
   ],
   "source": [
    "copy_file1(path_s, path_re)"
   ]
  },
  {
   "cell_type": "code",
   "execution_count": null,
   "id": "3f8b6db8",
   "metadata": {},
   "outputs": [],
   "source": [
    "path_source = \"C:\\\\Users\\sanju\\Documents\\Syncronazation_project\\Source_folder\"\n",
    "path_dest = \"C:\\\\Users\\sanju\\Documents\\Syncronazation_project\\Replica_folder\"\n",
    "\n",
    "def sync(path_a=None, path_b=None):\n",
    "    if not path_a or not path_b:\n",
    "        raise NameError('Required path to both dirs')\n",
    "    logs = ''\n",
    "\n",
    "    files_in_a=os.listdir(path_a)\n",
    "    files_in_b=os.listdir(path_b)\n",
    "    same_files = []\n",
    "    \n",
    "    for file_a in files_in_a:\n",
    "        for file_b in files_in_b:\n",
    "            print(file_b['name'])\n",
    "            if file_b['name'] == file_a['name']:\n",
    "                # compare dates\n",
    "                if file_b['date'] < file_a['date']:\n",
    "                    # change\n",
    "                    shutil.copy2(path_a + '/' + file_a['name'], path_b)\n",
    "                    logs += f\"Change {file_a['name']} in {path_b}\" + '\\n'\n",
    "            same_files.append(file_b['name'])\n",
    "    for file_a in files_in_a:\n",
    "        if not file_a['name'] in same_files:\n",
    "            # move to b\n",
    "            shutil.copy2(path_a + '/' + file_a['name'], path_b)\n",
    "            logs += f\"Create {file_a['name']} in {path_b}\" + '\\n'\n",
    "\n",
    "    #write_file('./logs.txt', logs)\n",
    "\n",
    "sync(path_source, path_dest)"
   ]
  },
  {
   "cell_type": "code",
   "execution_count": null,
   "id": "b63c5f74",
   "metadata": {},
   "outputs": [],
   "source": [
    "import dirsync\n",
    "\n",
    "source =  'C:\\\\Users\\sanju\\Documents\\Syncronazation_project\\Source_folder'\n",
    "dest = 'C:\\\\Users\\sanju\\Documents\\Syncronazation_project\\Replica_folder'\n",
    "logfile = 'C:\\\\Users\\sanju\\Documents\\Syncronazation_project\\log.txt'\n",
    "\n",
    "dirsync.sync(source, dest, 'sync', verbose=True, purge=True, logger=logfile)\n",
    "dirsync.sync(dest, source, 'sync', verbose=True, purge=True, logger=logfile)\n",
    "\n"
   ]
  },
  {
   "cell_type": "code",
   "execution_count": 44,
   "id": "a5b9a902",
   "metadata": {},
   "outputs": [],
   "source": [
    "import sys\n",
    "import os\n",
    "import shutil\n",
    "import logging\n",
    "\n",
    "\n",
    "logging.basicConfig(filename=\"std.log\", format='%(asctime)s %(message)s', filemode='w')\n",
    "logger=logging.getLogger() \n",
    "\n",
    "\n",
    "\n",
    "def copy(path_src, path_dest):\n",
    "    # copy the file\n",
    "    try:\n",
    "        logger.info(\"From: \" + path_src + \"To:\" + path_dest)\n",
    "        shutil.copy(path_src, path_dest)\n",
    "    except:\n",
    "        logger.info(\"file exists\")\n",
    "        \n",
    "def each_files(path_src, path_dest):\n",
    "    #this loop will go through every folder and file to copy\n",
    "    for folderName, subfolders, fileNames in os.walk(path_src):\n",
    "        logger.info('the current folder is: ' + folderName)\n",
    "        for subfolder in subfolders:\n",
    "            logger.info('Subfolder of: ' + folderName + ':' + subfolder)\n",
    "            try:\n",
    "                new_path = folderName.replace(path_src, path_dest) \n",
    "                log('created folder at destination: ' + subfolder)\n",
    "                os.mkdir(new_path+'\\\\'+subfolder)\n",
    "            except:\n",
    "                logger.info(\"folder exists: \" + subfolder)\n",
    "        for fileName in fileNames:\n",
    "            new_path = folderName.replace(path_src, path_dest)\n",
    "            file = folderName + '\\\\'+ fileName\n",
    "            copy(file, new_path)\n",
    "            logger.info('Copied: '+ file + ' To: ' + new_path)\n",
    "            \n",
    "def sync_files(path_src, path_dest):\n",
    "    for filename in os.listdir(path_dest):\n",
    "        filename_s=path_src + os.sep + filename\n",
    "        filename_t=path_dest + os.sep + filename\n",
    "        if not os.path.exists(filename_s):   \n",
    "            if os.path.isdir(filename_t):\n",
    "                logger.info('This folder do not exist in source so removed: '+ filename_t)\n",
    "                shutil.rmtree(filename_t)\n",
    "            else:\n",
    "                logger.info('This file do not exist in source so removed: '+ filename_t)\n",
    "                os.remove(filename_t)      \n",
    "    \n",
    "    for folderName, subfolders, fileNames in os.walk(path_dest):\n",
    "        for subfolder in subfolders:\n",
    "            new_path_src = folderName.replace(path_dest, path_src) \n",
    "            folderNameSrc = new_path_src+'\\\\'+subfolder\n",
    "            new_path_dest = folderName.replace(path_src, path_dest)\n",
    "            folderNameDest = new_path_dest+'\\\\'+subfolder\n",
    "            if not os.path.exists(folderNameSrc):\n",
    "                logger.info('this folder does not exist in source, so removing' + folderNameDest)\n",
    "                shutil.rmtree(folderNameDest)\n",
    "            else:\n",
    "                for filename in os.listdir(folderNameDest):\n",
    "                    fileToCheck = folderNameSrc+'\\\\'+filename\n",
    "                    fileToRemove = folderNameDest+'\\\\'+filename\n",
    "                    if not os.path.exists(fileToCheck):\n",
    "                        logger.info('this file in subfolder does not exist in source, so removing' + folderNameDest)\n",
    "                        os.remove(fileToRemove)\n",
    "\n"
   ]
  },
  {
   "cell_type": "code",
   "execution_count": 43,
   "id": "3c48b5b1",
   "metadata": {},
   "outputs": [],
   "source": [
    "source =  'C:\\\\Users\\sanju\\Documents\\sync-folders-project\\Source_folder'\n",
    "dest = 'C:\\\\Users\\sanju\\Documents\\sync-folders-project\\Replica_folder'\n",
    "each_files(source, dest)\n",
    "sync_files(source, dest)"
   ]
  },
  {
   "cell_type": "code",
   "execution_count": null,
   "id": "086a0ac0",
   "metadata": {},
   "outputs": [],
   "source": []
  },
  {
   "cell_type": "code",
   "execution_count": null,
   "id": "4efd5471",
   "metadata": {},
   "outputs": [],
   "source": [
    "for fileName in fileNames:\n",
    "            new_path = folderName.replace(path_src, path_dest)\n",
    "            file = folderName + '\\\\'+ fileName\n",
    "            copy(file, new_path)\n",
    "\n",
    "        if os.path.isdir(filename_t):\n",
    "            if not os.path.exists(filename_s):\n",
    "                log('the current folder do not exist in source, so removing '+ filename_t )\n",
    "                shutil.rmtree(filename_t)\n",
    "            else:\n",
    "                for filename in os.listdir(filename_t):\n",
    "                    filename_s2=filename_s + os.sep + filename\n",
    "                    filename_t2=filename_t + os.sep + filename\n",
    "                    if not os.path.exists(filename_s2):\n",
    "                        os.remove(filename_t2)"
   ]
  }
 ],
 "metadata": {
  "kernelspec": {
   "display_name": "Python 3 (ipykernel)",
   "language": "python",
   "name": "python3"
  },
  "language_info": {
   "codemirror_mode": {
    "name": "ipython",
    "version": 3
   },
   "file_extension": ".py",
   "mimetype": "text/x-python",
   "name": "python",
   "nbconvert_exporter": "python",
   "pygments_lexer": "ipython3",
   "version": "3.9.7"
  }
 },
 "nbformat": 4,
 "nbformat_minor": 5
}
