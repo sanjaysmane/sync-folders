{
 "cells": [
  {
   "cell_type": "markdown",
   "id": "eb8757f5",
   "metadata": {
    "tags": []
   },
   "source": [
    "# Sync of 2 Folders"
   ]
  },
  {
   "cell_type": "code",
   "execution_count": null,
   "id": "a5b9a902",
   "metadata": {},
   "outputs": [],
   "source": [
    "#!/usr/bin/env python\n",
    "\n",
    "import sys\n",
    "import os\n",
    "import shutil\n",
    "import schedule\n",
    "import time\n",
    "import loggerMod\n",
    "import click\n",
    "\n",
    "\n",
    "def copy_files(path_src, path_dest, logger):\n",
    "    #this loop will go through every folder and file and copy to destination\n",
    "    for folderName, subfolders, fileNames in os.walk(path_src):\n",
    "        for subfolder in subfolders:\n",
    "            try:\n",
    "                new_path = folderName.replace(path_src, path_dest) \n",
    "                logger.info('created folder at destination: ' + subfolder)\n",
    "                os.mkdir(new_path+'\\\\'+subfolder)\n",
    "            except:\n",
    "                logger.warning(\"folder exists: \" + subfolder)\n",
    "        for fileName in fileNames:\n",
    "            new_path = folderName.replace(path_src, path_dest)\n",
    "            file = folderName + '\\\\'+ fileName\n",
    "            shutil.copy(file, new_path)\n",
    "            logger.info(file + ' is copied to: ' + new_path)\n",
    "    logger.info('All files and folders from source copied to destination')    \n",
    "\n",
    "def sync_files(path_src, path_dest, logger):\n",
    "    #this loop will go through each of the destination files to match with source, remove extras\n",
    "    for filename in os.listdir(path_dest):\n",
    "        try:\n",
    "            filename_s=path_src + os.sep + filename\n",
    "            filename_t=path_dest + os.sep + filename\n",
    "            if not os.path.exists(filename_s):   \n",
    "                if os.path.isdir(filename_t):\n",
    "                    logger.info('This folder do not exist in source so removed: '+ filename_t)\n",
    "                    shutil.rmtree(filename_t)\n",
    "                else:\n",
    "                    logger.info('This file do not exist in source so removed: '+ filename_t)\n",
    "                    os.remove(filename_t)      \n",
    "        except:\n",
    "                logger.error(\"something went wrong while removing files\")\n",
    "    #this loop will check all destination folders to match with source, remove extras\n",
    "    for folderName, subfolders, fileNames in os.walk(path_dest):\n",
    "        for subfolder in subfolders:\n",
    "            try:\n",
    "                new_path_src = folderName.replace(path_dest, path_src) \n",
    "                folderNameSrc = new_path_src+'\\\\'+subfolder\n",
    "                new_path_dest = folderName.replace(path_src, path_dest)\n",
    "                folderNameDest = new_path_dest+'\\\\'+subfolder\n",
    "                if not os.path.exists(folderNameSrc):\n",
    "                    logger.info('this folder does not exist in source, so removing' + folderNameDest)\n",
    "                    shutil.rmtree(folderNameDest)\n",
    "                else:\n",
    "                    for filename in os.listdir(folderNameDest):\n",
    "                        fileToCheck = folderNameSrc+'\\\\'+filename\n",
    "                        fileToRemove = folderNameDest+'\\\\'+filename\n",
    "                        if not os.path.exists(fileToCheck):\n",
    "                            logger.info('this file in subfolder does not exist in source, so removing' + folderNameDest)\n",
    "                            os.remove(fileToRemove)\n",
    "            except:\n",
    "                logger.error(\"something went wrong while removing file or folder\")\n",
    "    logger.info('All files and folders are matched and updated as per source folder')\n",
    "\n",
    "    \n",
    "def sync_folders(source, dest, logfilename):\n",
    "    copy_files(source, dest, logger=loggerMod.loggerFunc(logfilename))\n",
    "    sync_files(source, dest, logger=loggerMod.loggerFunc(logfilename))\n",
    "\n",
    "def sync(source, dest, logfilename, mins):\n",
    "    # runs sync_folders function at given time interval in minutes\n",
    "    schedule.every(mins).minutes.do(lambda : sync_folders(source, dest, logfilename))\n",
    "    while True:\n",
    "        schedule.run_pending()\n",
    "        time.sleep(300)\n",
    "\n",
    "@click.command()\n",
    "@click.argument('source')\n",
    "@click.argument('dest',)\n",
    "@click.argument('logfilename')\n",
    "@click.argument('minutes')\n",
    "\n",
    "def main(source, dest, logfilename, minutes):\n",
    "    doSync = sync(source, dest, logfilename, minutes)\n",
    "    print(f\"The sync is in progress..\")\n",
    "\n",
    "\n",
    "if __name__ == '__main__':\n",
    "    main()"
   ]
  },
  {
   "cell_type": "code",
   "execution_count": null,
   "id": "3c48b5b1",
   "metadata": {},
   "outputs": [],
   "source": [
    "source = 'C:\\\\Users\\sanju\\Documents\\sync-folders-project\\Source_folder'\n",
    "dest = 'C:\\\\Users\\sanju\\Documents\\sync-folders-project\\Replica_folder'\n",
    "\n",
    "doSync(source, dest, 'log.txt', 15)"
   ]
  },
  {
   "cell_type": "code",
   "execution_count": null,
   "id": "086a0ac0",
   "metadata": {},
   "outputs": [],
   "source": [
    " "
   ]
  }
 ],
 "metadata": {
  "kernelspec": {
   "display_name": "Python 3 (ipykernel)",
   "language": "python",
   "name": "python3"
  },
  "language_info": {
   "codemirror_mode": {
    "name": "ipython",
    "version": 3
   },
   "file_extension": ".py",
   "mimetype": "text/x-python",
   "name": "python",
   "nbconvert_exporter": "python",
   "pygments_lexer": "ipython3",
   "version": "3.9.7"
  }
 },
 "nbformat": 4,
 "nbformat_minor": 5
}
