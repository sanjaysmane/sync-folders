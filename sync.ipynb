{
 "cells": [
  {
   "cell_type": "markdown",
   "id": "eb8757f5",
   "metadata": {
    "tags": []
   },
   "source": [
    "# Sync of 2 Folders"
   ]
  },
  {
   "cell_type": "code",
   "execution_count": 3,
   "id": "a5b9a902",
   "metadata": {},
   "outputs": [],
   "source": [
    "import sys\n",
    "import os\n",
    "import shutil\n",
    "import logging\n",
    "\n",
    "\n",
    "logging.basicConfig(filename=\"log.txt\", level=logging.INFO,  format='%(asctime)s %(message)s', filemode='w')\n",
    "\n",
    "logging.info(\"Debug logging test...\")\n",
    "logger=logging.getLogger() \n",
    "\n",
    "\n",
    "\n",
    "def copy(path_src, path_dest):\n",
    "    # copy the file\n",
    "    try:\n",
    "        logger.info(\"From: \" + path_src + \"To:\" + path_dest)\n",
    "        shutil.copy(path_src, path_dest)\n",
    "    except:\n",
    "        logger.info(\"file exists\")\n",
    "        \n",
    "def each_files(path_src, path_dest):\n",
    "    #this loop will go through every folder and file to copy\n",
    "    for folderName, subfolders, fileNames in os.walk(path_src):\n",
    "        logger.info('the current folder is: ' + folderName)\n",
    "        for subfolder in subfolders:\n",
    "            logger.info('Subfolder of: ' + folderName + ':' + subfolder)\n",
    "            try:\n",
    "                new_path = folderName.replace(path_src, path_dest) \n",
    "                log('created folder at destination: ' + subfolder)\n",
    "                os.mkdir(new_path+'\\\\'+subfolder)\n",
    "            except:\n",
    "                logger.info(\"folder exists: \" + subfolder)\n",
    "        for fileName in fileNames:\n",
    "            new_path = folderName.replace(path_src, path_dest)\n",
    "            file = folderName + '\\\\'+ fileName\n",
    "            copy(file, new_path)\n",
    "            logger.info('Copied: '+ file + ' To: ' + new_path)\n",
    "            \n",
    "def sync_files(path_src, path_dest):\n",
    "    for filename in os.listdir(path_dest):\n",
    "        filename_s=path_src + os.sep + filename\n",
    "        filename_t=path_dest + os.sep + filename\n",
    "        if not os.path.exists(filename_s):   \n",
    "            if os.path.isdir(filename_t):\n",
    "                logger.info('This folder do not exist in source so removed: '+ filename_t)\n",
    "                shutil.rmtree(filename_t)\n",
    "            else:\n",
    "                logger.info('This file do not exist in source so removed: '+ filename_t)\n",
    "                os.remove(filename_t)      \n",
    "    \n",
    "    for folderName, subfolders, fileNames in os.walk(path_dest):\n",
    "        for subfolder in subfolders:\n",
    "            new_path_src = folderName.replace(path_dest, path_src) \n",
    "            folderNameSrc = new_path_src+'\\\\'+subfolder\n",
    "            new_path_dest = folderName.replace(path_src, path_dest)\n",
    "            folderNameDest = new_path_dest+'\\\\'+subfolder\n",
    "            if not os.path.exists(folderNameSrc):\n",
    "                logger.info('this folder does not exist in source, so removing' + folderNameDest)\n",
    "                shutil.rmtree(folderNameDest)\n",
    "            else:\n",
    "                for filename in os.listdir(folderNameDest):\n",
    "                    fileToCheck = folderNameSrc+'\\\\'+filename\n",
    "                    fileToRemove = folderNameDest+'\\\\'+filename\n",
    "                    if not os.path.exists(fileToCheck):\n",
    "                        logger.info('this file in subfolder does not exist in source, so removing' + folderNameDest)\n",
    "                        os.remove(fileToRemove)"
   ]
  },
  {
   "cell_type": "code",
   "execution_count": 4,
   "id": "3c48b5b1",
   "metadata": {},
   "outputs": [],
   "source": [
    "source = 'C:\\\\Users\\sanju\\Documents\\sync-folders-project\\Source_folder'\n",
    "dest = 'C:\\\\Users\\sanju\\Documents\\sync-folders-project\\Replica_folder'\n",
    "each_files(source, dest)\n",
    "sync_files(source, dest)"
   ]
  },
  {
   "cell_type": "code",
   "execution_count": null,
   "id": "086a0ac0",
   "metadata": {},
   "outputs": [],
   "source": []
  }
 ],
 "metadata": {
  "kernelspec": {
   "display_name": "Python 3 (ipykernel)",
   "language": "python",
   "name": "python3"
  },
  "language_info": {
   "codemirror_mode": {
    "name": "ipython",
    "version": 3
   },
   "file_extension": ".py",
   "mimetype": "text/x-python",
   "name": "python",
   "nbconvert_exporter": "python",
   "pygments_lexer": "ipython3",
   "version": "3.9.7"
  }
 },
 "nbformat": 4,
 "nbformat_minor": 5
}
