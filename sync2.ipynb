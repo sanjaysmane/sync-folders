{
 "cells": [
  {
   "cell_type": "markdown",
   "id": "eb8757f5",
   "metadata": {
    "tags": []
   },
   "source": [
    "# Sync of 2 Folders"
   ]
  },
  {
   "cell_type": "code",
   "execution_count": 4,
   "id": "a5b9a902",
   "metadata": {},
   "outputs": [],
   "source": [
    "import sys\n",
    "import os\n",
    "import shutil\n",
    "import logging\n",
    "\n",
    " \n",
    "logging.basicConfig(level=logging.INFO, format=f\"%(levelname)-8s: \\t %(filename)s %(funcName)s %(lineno)s - %(message)s\")\n",
    "logger = logging.getLogger(\"mylogger\")\n",
    "\n",
    "# logging onto console output\n",
    "logStreamFormatter = logging.Formatter(\n",
    "  fmt=\"%(asctime)s %(message)s\", \n",
    "  datefmt=\"%H:%M:%S\"\n",
    ")\n",
    "consoleHandler = logging.StreamHandler(stream=sys.stdout)\n",
    "consoleHandler.setFormatter(logStreamFormatter)\n",
    "consoleHandler.setLevel(level=logging.INFO)\n",
    "logger.addHandler(consoleHandler)\n",
    "\n",
    "\n",
    "# logging logs to sync.log file\n",
    "logFileFormatter = logging.Formatter(\n",
    "    fmt=f\"%(levelname)s %(asctime)s (%(relativeCreated)d) \\t %(pathname)s F%(funcName)s L%(lineno)s - %(message)s\",\n",
    "    datefmt=\"%Y-%m-%d %H:%M:%S\",\n",
    ")\n",
    "fileHandler = logging.FileHandler(filename='sync-log.txt')\n",
    "fileHandler.setFormatter(logFileFormatter)\n",
    "fileHandler.setLevel(level=logging.INFO)\n",
    "logger.addHandler(fileHandler)\n",
    "\n",
    "def copy(path_src, path_dest):\n",
    "    # copy the file\n",
    "    try:\n",
    "        logger.info(\"From: \" + path_src + \"To:\" + path_dest)\n",
    "        shutil.copy(path_src, path_dest)\n",
    "    except:\n",
    "        logger.info(\"file exists\")\n",
    "        \n",
    "def copy_files(path_src, path_dest):\n",
    "    #this loop will go through every folder and file to copy\n",
    "    for folderName, subfolders, fileNames in os.walk(path_src):\n",
    "        for subfolder in subfolders:\n",
    "            try:\n",
    "                new_path = folderName.replace(path_src, path_dest) \n",
    "                logger.info('created folder at destination: ' + subfolder)\n",
    "                os.mkdir(new_path+'\\\\'+subfolder)\n",
    "            except:\n",
    "                logger.info(\"folder exists: \" + subfolder)\n",
    "        for fileName in fileNames:\n",
    "            new_path = folderName.replace(path_src, path_dest)\n",
    "            file = folderName + '\\\\'+ fileName\n",
    "            copy(file, new_path)\n",
    "    logger.info('All files and folders from source copied to destination')    \n",
    "\n",
    "def sync_files(path_src, path_dest):\n",
    "    for filename in os.listdir(path_dest):\n",
    "        try:\n",
    "            filename_s=path_src + os.sep + filename\n",
    "            filename_t=path_dest + os.sep + filename\n",
    "            if not os.path.exists(filename_s):   \n",
    "                if os.path.isdir(filename_t):\n",
    "                    logger.info('This folder do not exist in source so removed: '+ filename_t)\n",
    "                    shutil.rmtree(filename_t)\n",
    "                else:\n",
    "                    logger.info('This file do not exist in source so removed: '+ filename_t)\n",
    "                    os.remove(filename_t)      \n",
    "        except:\n",
    "                logger.error(\"something went wrong while removing files\")\n",
    "    \n",
    "    for folderName, subfolders, fileNames in os.walk(path_dest):\n",
    "        for subfolder in subfolders:\n",
    "            try:\n",
    "                new_path_src = folderName.replace(path_dest, path_src) \n",
    "                folderNameSrc = new_path_src+'\\\\'+subfolder\n",
    "                new_path_dest = folderName.replace(path_src, path_dest)\n",
    "                folderNameDest = new_path_dest+'\\\\'+subfolder\n",
    "                if not os.path.exists(folderNameSrc):\n",
    "                    logger.info('this folder does not exist in source, so removing' + folderNameDest)\n",
    "                    shutil.rmtree(folderNameDest)\n",
    "                else:\n",
    "                    for filename in os.listdir(folderNameDest):\n",
    "                        fileToCheck = folderNameSrc+'\\\\'+filename\n",
    "                        fileToRemove = folderNameDest+'\\\\'+filename\n",
    "                        if not os.path.exists(fileToCheck):\n",
    "                            logger.info('this file in subfolder does not exist in source, so removing' + folderNameDest)\n",
    "                            os.remove(fileToRemove)\n",
    "            except:\n",
    "                logger.error(\"something went wrong while removing file or folder\")\n",
    "    logger.info('all files and folders from destination are matched and updated as per source folder')\n",
    "    \n",
    "\n",
    "def sync_folders(source, dest):\n",
    "    copy_files(source, dest)\n",
    "    sync_files(source, dest)"
   ]
  },
  {
   "cell_type": "code",
   "execution_count": 6,
   "id": "3c48b5b1",
   "metadata": {},
   "outputs": [
    {
     "name": "stdout",
     "output_type": "stream",
     "text": [
      "13:13:57 created folder at destination: stories for arshan\n",
      "13:13:57 created folder at destination: stories for arshan\n"
     ]
    },
    {
     "name": "stderr",
     "output_type": "stream",
     "text": [
      "INFO    : \t 1705962852.py copy_files 45 - created folder at destination: stories for arshan\n"
     ]
    },
    {
     "name": "stdout",
     "output_type": "stream",
     "text": [
      "13:13:57 folder exists: stories for arshan\n",
      "13:13:57 folder exists: stories for arshan\n"
     ]
    },
    {
     "name": "stderr",
     "output_type": "stream",
     "text": [
      "INFO    : \t 1705962852.py copy_files 48 - folder exists: stories for arshan\n"
     ]
    },
    {
     "name": "stdout",
     "output_type": "stream",
     "text": [
      "13:13:57 created folder at destination: test\n",
      "13:13:57 created folder at destination: test\n"
     ]
    },
    {
     "name": "stderr",
     "output_type": "stream",
     "text": [
      "INFO    : \t 1705962852.py copy_files 45 - created folder at destination: test\n"
     ]
    },
    {
     "name": "stdout",
     "output_type": "stream",
     "text": [
      "13:13:57 folder exists: test\n",
      "13:13:57 folder exists: test\n"
     ]
    },
    {
     "name": "stderr",
     "output_type": "stream",
     "text": [
      "INFO    : \t 1705962852.py copy_files 48 - folder exists: test\n"
     ]
    },
    {
     "name": "stdout",
     "output_type": "stream",
     "text": [
      "13:13:57 From: C:\\Users\\sanju\\Documents\\sync-folders-project\\Source_folder\\Anschreiben-copy.docxTo:C:\\Users\\sanju\\Documents\\sync-folders-project\\Replica_folder\n",
      "13:13:57 From: C:\\Users\\sanju\\Documents\\sync-folders-project\\Source_folder\\Anschreiben-copy.docxTo:C:\\Users\\sanju\\Documents\\sync-folders-project\\Replica_folder\n"
     ]
    },
    {
     "name": "stderr",
     "output_type": "stream",
     "text": [
      "INFO    : \t 1705962852.py copy 34 - From: C:\\Users\\sanju\\Documents\\sync-folders-project\\Source_folder\\Anschreiben-copy.docxTo:C:\\Users\\sanju\\Documents\\sync-folders-project\\Replica_folder\n"
     ]
    },
    {
     "name": "stdout",
     "output_type": "stream",
     "text": [
      "13:13:57 From: C:\\Users\\sanju\\Documents\\sync-folders-project\\Source_folder\\cars-bad-buy.ipynbTo:C:\\Users\\sanju\\Documents\\sync-folders-project\\Replica_folder\n",
      "13:13:57 From: C:\\Users\\sanju\\Documents\\sync-folders-project\\Source_folder\\cars-bad-buy.ipynbTo:C:\\Users\\sanju\\Documents\\sync-folders-project\\Replica_folder\n"
     ]
    },
    {
     "name": "stderr",
     "output_type": "stream",
     "text": [
      "INFO    : \t 1705962852.py copy 34 - From: C:\\Users\\sanju\\Documents\\sync-folders-project\\Source_folder\\cars-bad-buy.ipynbTo:C:\\Users\\sanju\\Documents\\sync-folders-project\\Replica_folder\n"
     ]
    },
    {
     "name": "stdout",
     "output_type": "stream",
     "text": [
      "13:13:57 From: C:\\Users\\sanju\\Documents\\sync-folders-project\\Source_folder\\froinloop.pyTo:C:\\Users\\sanju\\Documents\\sync-folders-project\\Replica_folder\n",
      "13:13:57 From: C:\\Users\\sanju\\Documents\\sync-folders-project\\Source_folder\\froinloop.pyTo:C:\\Users\\sanju\\Documents\\sync-folders-project\\Replica_folder\n"
     ]
    },
    {
     "name": "stderr",
     "output_type": "stream",
     "text": [
      "INFO    : \t 1705962852.py copy 34 - From: C:\\Users\\sanju\\Documents\\sync-folders-project\\Source_folder\\froinloop.pyTo:C:\\Users\\sanju\\Documents\\sync-folders-project\\Replica_folder\n"
     ]
    },
    {
     "name": "stdout",
     "output_type": "stream",
     "text": [
      "13:13:57 From: C:\\Users\\sanju\\Documents\\sync-folders-project\\Source_folder\\interview answer.docxTo:C:\\Users\\sanju\\Documents\\sync-folders-project\\Replica_folder\n",
      "13:13:57 From: C:\\Users\\sanju\\Documents\\sync-folders-project\\Source_folder\\interview answer.docxTo:C:\\Users\\sanju\\Documents\\sync-folders-project\\Replica_folder\n"
     ]
    },
    {
     "name": "stderr",
     "output_type": "stream",
     "text": [
      "INFO    : \t 1705962852.py copy 34 - From: C:\\Users\\sanju\\Documents\\sync-folders-project\\Source_folder\\interview answer.docxTo:C:\\Users\\sanju\\Documents\\sync-folders-project\\Replica_folder\n"
     ]
    },
    {
     "name": "stdout",
     "output_type": "stream",
     "text": [
      "13:13:57 From: C:\\Users\\sanju\\Documents\\sync-folders-project\\Source_folder\\Nested_json_dict_addingto couln_for_loop.pdfTo:C:\\Users\\sanju\\Documents\\sync-folders-project\\Replica_folder\n",
      "13:13:57 From: C:\\Users\\sanju\\Documents\\sync-folders-project\\Source_folder\\Nested_json_dict_addingto couln_for_loop.pdfTo:C:\\Users\\sanju\\Documents\\sync-folders-project\\Replica_folder\n"
     ]
    },
    {
     "name": "stderr",
     "output_type": "stream",
     "text": [
      "INFO    : \t 1705962852.py copy 34 - From: C:\\Users\\sanju\\Documents\\sync-folders-project\\Source_folder\\Nested_json_dict_addingto couln_for_loop.pdfTo:C:\\Users\\sanju\\Documents\\sync-folders-project\\Replica_folder\n"
     ]
    },
    {
     "name": "stdout",
     "output_type": "stream",
     "text": [
      "13:13:57 From: C:\\Users\\sanju\\Documents\\sync-folders-project\\Source_folder\\stories for arshan\\023-A-DOG-ON-A-LOG-Free-Childrens-Book-By-Monkey-Pen.pdfTo:C:\\Users\\sanju\\Documents\\sync-folders-project\\Replica_folder\\stories for arshan\n",
      "13:13:57 From: C:\\Users\\sanju\\Documents\\sync-folders-project\\Source_folder\\stories for arshan\\023-A-DOG-ON-A-LOG-Free-Childrens-Book-By-Monkey-Pen.pdfTo:C:\\Users\\sanju\\Documents\\sync-folders-project\\Replica_folder\\stories for arshan\n"
     ]
    },
    {
     "name": "stderr",
     "output_type": "stream",
     "text": [
      "INFO    : \t 1705962852.py copy 34 - From: C:\\Users\\sanju\\Documents\\sync-folders-project\\Source_folder\\stories for arshan\\023-A-DOG-ON-A-LOG-Free-Childrens-Book-By-Monkey-Pen.pdfTo:C:\\Users\\sanju\\Documents\\sync-folders-project\\Replica_folder\\stories for arshan\n"
     ]
    },
    {
     "name": "stdout",
     "output_type": "stream",
     "text": [
      "13:13:57 From: C:\\Users\\sanju\\Documents\\sync-folders-project\\Source_folder\\stories for arshan\\certificates-B2 Degree,ZAB.pdfTo:C:\\Users\\sanju\\Documents\\sync-folders-project\\Replica_folder\\stories for arshan\n",
      "13:13:57 From: C:\\Users\\sanju\\Documents\\sync-folders-project\\Source_folder\\stories for arshan\\certificates-B2 Degree,ZAB.pdfTo:C:\\Users\\sanju\\Documents\\sync-folders-project\\Replica_folder\\stories for arshan\n"
     ]
    },
    {
     "name": "stderr",
     "output_type": "stream",
     "text": [
      "INFO    : \t 1705962852.py copy 34 - From: C:\\Users\\sanju\\Documents\\sync-folders-project\\Source_folder\\stories for arshan\\certificates-B2 Degree,ZAB.pdfTo:C:\\Users\\sanju\\Documents\\sync-folders-project\\Replica_folder\\stories for arshan\n"
     ]
    },
    {
     "name": "stdout",
     "output_type": "stream",
     "text": [
      "13:13:57 From: C:\\Users\\sanju\\Documents\\sync-folders-project\\Source_folder\\stories for arshan\\Test_Gesamtfragenkatalog_BAMF.pdfTo:C:\\Users\\sanju\\Documents\\sync-folders-project\\Replica_folder\\stories for arshan\n",
      "13:13:57 From: C:\\Users\\sanju\\Documents\\sync-folders-project\\Source_folder\\stories for arshan\\Test_Gesamtfragenkatalog_BAMF.pdfTo:C:\\Users\\sanju\\Documents\\sync-folders-project\\Replica_folder\\stories for arshan\n"
     ]
    },
    {
     "name": "stderr",
     "output_type": "stream",
     "text": [
      "INFO    : \t 1705962852.py copy 34 - From: C:\\Users\\sanju\\Documents\\sync-folders-project\\Source_folder\\stories for arshan\\Test_Gesamtfragenkatalog_BAMF.pdfTo:C:\\Users\\sanju\\Documents\\sync-folders-project\\Replica_folder\\stories for arshan\n"
     ]
    },
    {
     "name": "stdout",
     "output_type": "stream",
     "text": [
      "13:13:58 From: C:\\Users\\sanju\\Documents\\sync-folders-project\\Source_folder\\stories for arshan\\Test_Lernkarten_Leben_in_Deutschland.pdfTo:C:\\Users\\sanju\\Documents\\sync-folders-project\\Replica_folder\\stories for arshan\n",
      "13:13:58 From: C:\\Users\\sanju\\Documents\\sync-folders-project\\Source_folder\\stories for arshan\\Test_Lernkarten_Leben_in_Deutschland.pdfTo:C:\\Users\\sanju\\Documents\\sync-folders-project\\Replica_folder\\stories for arshan\n"
     ]
    },
    {
     "name": "stderr",
     "output_type": "stream",
     "text": [
      "INFO    : \t 1705962852.py copy 34 - From: C:\\Users\\sanju\\Documents\\sync-folders-project\\Source_folder\\stories for arshan\\Test_Lernkarten_Leben_in_Deutschland.pdfTo:C:\\Users\\sanju\\Documents\\sync-folders-project\\Replica_folder\\stories for arshan\n"
     ]
    },
    {
     "name": "stdout",
     "output_type": "stream",
     "text": [
      "13:13:58 From: C:\\Users\\sanju\\Documents\\sync-folders-project\\Source_folder\\test\\Anschreiben-copy.docxTo:C:\\Users\\sanju\\Documents\\sync-folders-project\\Replica_folder\\test\n",
      "13:13:58 From: C:\\Users\\sanju\\Documents\\sync-folders-project\\Source_folder\\test\\Anschreiben-copy.docxTo:C:\\Users\\sanju\\Documents\\sync-folders-project\\Replica_folder\\test\n"
     ]
    },
    {
     "name": "stderr",
     "output_type": "stream",
     "text": [
      "INFO    : \t 1705962852.py copy 34 - From: C:\\Users\\sanju\\Documents\\sync-folders-project\\Source_folder\\test\\Anschreiben-copy.docxTo:C:\\Users\\sanju\\Documents\\sync-folders-project\\Replica_folder\\test\n"
     ]
    },
    {
     "name": "stdout",
     "output_type": "stream",
     "text": [
      "13:13:58 All files and folders from source copied to destination\n",
      "13:13:58 All files and folders from source copied to destination\n"
     ]
    },
    {
     "name": "stderr",
     "output_type": "stream",
     "text": [
      "INFO    : \t 1705962852.py copy_files 53 - All files and folders from source copied to destination\n"
     ]
    },
    {
     "name": "stdout",
     "output_type": "stream",
     "text": [
      "13:13:58 all files and folders from destination are matched and updated as per source folder\n",
      "13:13:58 all files and folders from destination are matched and updated as per source folder\n"
     ]
    },
    {
     "name": "stderr",
     "output_type": "stream",
     "text": [
      "INFO    : \t 1705962852.py sync_files 89 - all files and folders from destination are matched and updated as per source folder\n"
     ]
    }
   ],
   "source": [
    "source = 'C:\\\\Users\\sanju\\Documents\\sync-folders-project\\Source_folder'\n",
    "dest = 'C:\\\\Users\\sanju\\Documents\\sync-folders-project\\Replica_folder'\n",
    "\n",
    "sync_folders(source, dest)\n"
   ]
  },
  {
   "cell_type": "code",
   "execution_count": null,
   "id": "086a0ac0",
   "metadata": {},
   "outputs": [],
   "source": []
  }
 ],
 "metadata": {
  "kernelspec": {
   "display_name": "Python 3 (ipykernel)",
   "language": "python",
   "name": "python3"
  },
  "language_info": {
   "codemirror_mode": {
    "name": "ipython",
    "version": 3
   },
   "file_extension": ".py",
   "mimetype": "text/x-python",
   "name": "python",
   "nbconvert_exporter": "python",
   "pygments_lexer": "ipython3",
   "version": "3.9.7"
  }
 },
 "nbformat": 4,
 "nbformat_minor": 5
}
